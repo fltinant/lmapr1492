{
 "cells": [
  {
   "cell_type": "code",
   "execution_count": 34,
   "id": "other-recognition",
   "metadata": {},
   "outputs": [
    {
     "name": "stdout",
     "output_type": "stream",
     "text": [
      "Full Formula (Nd1 Cu1 O2)\n",
      "Reduced Formula: NdCuO2\n",
      "abc   :   6.122375   6.122375   6.122374\n",
      "angles:  35.746023  35.746023  35.746026\n",
      "Sites (4)\n",
      "  #  SP           a         b         c    magmom\n",
      "---  ----  --------  --------  --------  --------\n",
      "  0  Nd    0.5       0.5       0.5             -0\n",
      "  1  Cu    0         0         0                0\n",
      "  2  O     0.893946  0.893946  0.893946         0\n",
      "  3  O     0.106054  0.106054  0.106054         0\n",
      "vecteurs de base du réseau direct :\n",
      "5.826903 -1.879008 0.000000\n",
      "5.826903 1.879008 0.000000\n",
      "5.220977 0.000000 3.197634\n",
      "paramètres a,b,c du réseau direct:\n",
      "(6.122374373727465, 6.122374373727465, 6.122374373727465)\n",
      "vecteurs de base du réseau réciproque :\n",
      "0.085809 -0.266098 -0.140106\n",
      "0.085809 0.266098 -0.140106\n",
      "0.000000 0.000000 0.312731\n",
      "paramètres a,b,c du réseau réciproque:\n",
      "(0.3127311861819073, 0.3127311861819073, 0.3127311861819073)\n",
      "type de maille :rhombohedral\n",
      "système cristallin :trigonal\n",
      "groupe ponctuel :-3m\n"
     ]
    }
   ],
   "source": [
    "from pymatgen.ext.matproj import MPRester\n",
    "from pymatgen.io.cif import CifWriter\n",
    "from pymatgen.core.lattice import Lattice as l\n",
    "from pymatgen.symmetry.analyzer import SpacegroupAnalyzer as a\n",
    "with MPRester(\"aDcnN2LIF5TzWj3wL\") as m:\n",
    "    structure = m.get_structure_by_material_id(\"mp-4886\")\n",
    "    prim = a(structure).get_primitive_standard_structure()\n",
    "    vecdir = prim.lattice\n",
    "    vecrecip = vecdir.reciprocal_lattice_crystallographic\n",
    "    lattice = a(structure).get_lattice_type()\n",
    "    syscrist = a(structure).get_crystal_system()\n",
    "    groupponct = a(structure).get_point_group_symbol()\n",
    "    print(structure)\n",
    "    print(\"vecteurs de base du réseau direct :\")\n",
    "    print(vecdir)\n",
    "    print(\"paramètres a,b,c du réseau direct:\")\n",
    "    print(vecdir.abc)\n",
    "    print(\"vecteurs de base du réseau réciproque :\")\n",
    "    print(vecrecip)\n",
    "    print(\"paramètres a,b,c du réseau réciproque:\")\n",
    "    print(vecrecip.abc)\n",
    "    print(\"type de maille :\" + lattice)\n",
    "    print(\"système cristallin :\" + syscrist)\n",
    "    print(\"groupe ponctuel :\" + groupponct)\n",
    "    file = CifWriter(structure)\n",
    "    file.write_file(\"mystructure\")"
   ]
  },
  {
   "cell_type": "code",
   "execution_count": null,
   "id": "scheduled-monroe",
   "metadata": {},
   "outputs": [],
   "source": []
  }
 ],
 "metadata": {
  "kernelspec": {
   "display_name": "Python 3",
   "language": "python",
   "name": "python3"
  },
  "language_info": {
   "codemirror_mode": {
    "name": "ipython",
    "version": 3
   },
   "file_extension": ".py",
   "mimetype": "text/x-python",
   "name": "python",
   "nbconvert_exporter": "python",
   "pygments_lexer": "ipython3",
   "version": "3.6.8"
  }
 },
 "nbformat": 4,
 "nbformat_minor": 5
}
