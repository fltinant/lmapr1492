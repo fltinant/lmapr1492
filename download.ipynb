{
 "cells": [
  {
   "cell_type": "code",
   "execution_count": 2,
   "id": "certified-diving",
   "metadata": {},
   "outputs": [
    {
     "name": "stdout",
     "output_type": "stream",
     "text": [
      "Full Formula (Lu2 Al4)\n",
      "Reduced Formula: LuAl2\n",
      "abc   :   5.488740   5.488740   5.488740\n",
      "angles:  60.000000  60.000000  60.000000\n",
      "Sites (6)\n",
      "  #  SP        a      b      c    magmom\n",
      "---  ----  -----  -----  -----  --------\n",
      "  0  Lu    0.25   0.25   0.25     -0\n",
      "  1  Lu    0      0      0        -0\n",
      "  2  Al    0.625  0.125  0.625    -0\n",
      "  3  Al    0.625  0.625  0.125    -0.001\n",
      "  4  Al    0.125  0.625  0.625     0.001\n",
      "  5  Al    0.625  0.625  0.625     0.001\n"
     ]
    }
   ],
   "source": [
    "from pymatgen.ext.matproj import MPRester\n",
    "from pymatgen.io.cif import CifWriter\n",
    "with MPRester(\"aDcnN2LIF5TzWj3wL\") as m:\n",
    "    structure = m.get_structure_by_material_id(\"mp-1234\")\n",
    "    print(structure)\n",
    "    file = CifWriter(structure)\n",
    "    file.write_file(\"mystructure\")\n"
   ]
  }
 ],
 "metadata": {
  "kernelspec": {
   "display_name": "Python 3",
   "language": "python",
   "name": "python3"
  },
  "language_info": {
   "codemirror_mode": {
    "name": "ipython",
    "version": 3
   },
   "file_extension": ".py",
   "mimetype": "text/x-python",
   "name": "python",
   "nbconvert_exporter": "python",
   "pygments_lexer": "ipython3",
   "version": "3.6.8"
  }
 },
 "nbformat": 4,
 "nbformat_minor": 5
}
