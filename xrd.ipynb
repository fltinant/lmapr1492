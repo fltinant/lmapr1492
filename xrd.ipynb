{
 "cells": [
  {
   "cell_type": "code",
   "execution_count": 61,
   "id": "bacterial-battlefield",
   "metadata": {},
   "outputs": [
    {
     "name": "stdout",
     "output_type": "stream",
     "text": [
      "Full Formula (Nd1 Cu1 O2)\n",
      "Reduced Formula: NdCuO2\n",
      "abc   :   6.122375   6.122375   6.122374\n",
      "angles:  35.746023  35.746023  35.746026\n",
      "Sites (4)\n",
      "  #  SP           a         b         c    magmom\n",
      "---  ----  --------  --------  --------  --------\n",
      "  0  Nd    0.5       0.5       0.5             -0\n",
      "  1  Cu    0         0         0                0\n",
      "  2  O     0.893946  0.893946  0.893946         0\n",
      "  3  O     0.106054  0.106054  0.106054         0\n",
      "DiffractionPattern\n",
      "$2\\Theta$: [15.47768087 27.90184876 29.34764523 31.24712255 34.58267784 38.09002138\n",
      " 46.34341122 47.65367315 48.44489033 50.95785211 51.16537976 56.83235493\n",
      " 57.65594454 58.78318318 60.87949411 60.99867531 63.23176657 63.23177888\n",
      " 65.18108825 66.40867416 69.28777166 70.30881261 72.94844788 72.94846207\n",
      " 77.85240216 77.85241673 78.06544991 78.55996441 78.55997632 81.37375445\n",
      " 81.37377147 81.47911604 83.47004177 83.47005236 84.37612201 84.64294865\n",
      " 85.23369429 85.23370463 86.35637386 86.35639004 89.02508329 89.0251027 ]\n",
      "Intensity: [ 25.45428744   5.02989946 100.          20.98325236  44.39353824\n",
      "  11.51533542   3.4638846    0.40413597  29.62184047  22.80223555\n",
      "   6.78613844   0.99688281  14.20656676  21.19378458   8.93397161\n",
      "  13.97064005   1.63379388   0.81689644   2.94115084   0.868054\n",
      "   1.12251794   1.04910786   4.92207783   2.46103749   0.64714245\n",
      "   0.32357114   1.16802115   7.40794401   3.70397109   5.24761333\n",
      "   2.6238056    5.81895619   1.48880937   0.74440457   3.52923353\n",
      "   0.33956031   5.58604739   2.79302295   0.32478361   0.16239176\n",
      "   0.84618231   0.42309103]\n",
      "[[{'hkl': (1, 1, 1), 'multiplicity': 2}], [{'hkl': (1, 0, 0), 'multiplicity': 6}], [{'hkl': (1, 1, 0), 'multiplicity': 6}], [{'hkl': (2, 2, 2), 'multiplicity': 2}], [{'hkl': (2, 1, 1), 'multiplicity': 6}], [{'hkl': (2, 2, 1), 'multiplicity': 6}], [{'hkl': (3, 2, 2), 'multiplicity': 6}], [{'hkl': (3, 3, 3), 'multiplicity': 2}], [{'hkl': (1, 0, -1), 'multiplicity': 6}], [{'hkl': (3, 3, 2), 'multiplicity': 6}], [{'hkl': (2, 1, 0), 'multiplicity': 12}], [{'hkl': (1, 1, -1), 'multiplicity': 6}], [{'hkl': (2, 0, 0), 'multiplicity': 6}], [{'hkl': (3, 2, 1), 'multiplicity': 12}], [{'hkl': (2, 2, 0), 'multiplicity': 6}], [{'hkl': (4, 3, 3), 'multiplicity': 6}], [{'hkl': (3, 1, 1), 'multiplicity': 4}], [{'hkl': (1, 1, 3), 'multiplicity': 2}], [{'hkl': (4, 4, 4), 'multiplicity': 2}], [{'hkl': (4, 4, 3), 'multiplicity': 6}], [{'hkl': (3, 3, 1), 'multiplicity': 6}], [{'hkl': (4, 3, 2), 'multiplicity': 12}], [{'hkl': (4, 2, 2), 'multiplicity': 4}], [{'hkl': (2, 2, 4), 'multiplicity': 2}], [{'hkl': (2, 0, -1), 'multiplicity': 8}], [{'hkl': (1, 0, -2), 'multiplicity': 4}], [{'hkl': (5, 4, 4), 'multiplicity': 6}], [{'hkl': (2, -1, 1), 'multiplicity': 8}], [{'hkl': (2, 1, -1), 'multiplicity': 4}], [{'hkl': (3, 1, 0), 'multiplicity': 8}], [{'hkl': (1, 0, 3), 'multiplicity': 4}], [{'hkl': (4, 4, 2), 'multiplicity': 6}], [{'hkl': (3, 2, 0), 'multiplicity': 8}], [{'hkl': (2, 0, 3), 'multiplicity': 4}], [{'hkl': (5, 5, 4), 'multiplicity': 6}], [{'hkl': (5, 5, 5), 'multiplicity': 2}], [{'hkl': (5, 4, 3), 'multiplicity': 8}], [{'hkl': (4, 3, 5), 'multiplicity': 4}], [{'hkl': (5, 3, 3), 'multiplicity': 4}], [{'hkl': (3, 3, 5), 'multiplicity': 2}], [{'hkl': (4, 2, 1), 'multiplicity': 8}], [{'hkl': (2, 1, 4), 'multiplicity': 4}]]\n"
     ]
    }
   ],
   "source": [
    "from pymatgen.ext.matproj import MPRester\n",
    "from pymatgen.io.cif import CifWriter\n",
    "from pymatgen.analysis.diffraction.xrd import XRDCalculator as d\n",
    "with MPRester(\"aDcnN2LIF5TzWj3wL\") as m:\n",
    "    structure = m.get_structure_by_material_id(\"mp-4886\")\n",
    "    diffrac = d().get_pattern(structure)\n",
    "    hkl = diffrac.hkls\n",
    "    print(structure)\n",
    "    print(diffrac) \n",
    "    print(hkl)\n",
    "    #Les trois premiers pics sont définis par les trois premières valeurs de 2.Theta.\n",
    "    #L'intensité respective de ces trois pics sont les trois premières valeurs de Intensity.\n",
    "    #Les indices hkl associés sont aussi les trois premiers.\n",
    "    file = CifWriter(structure)\n",
    "    file.write_file(\"mystructure\")"
   ]
  },
  {
   "cell_type": "code",
   "execution_count": null,
   "id": "varying-dependence",
   "metadata": {},
   "outputs": [],
   "source": []
  }
 ],
 "metadata": {
  "kernelspec": {
   "display_name": "Python 3",
   "language": "python",
   "name": "python3"
  },
  "language_info": {
   "codemirror_mode": {
    "name": "ipython",
    "version": 3
   },
   "file_extension": ".py",
   "mimetype": "text/x-python",
   "name": "python",
   "nbconvert_exporter": "python",
   "pygments_lexer": "ipython3",
   "version": "3.6.8"
  }
 },
 "nbformat": 4,
 "nbformat_minor": 5
}
