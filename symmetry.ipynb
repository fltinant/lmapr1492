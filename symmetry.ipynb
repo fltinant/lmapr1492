{
 "cells": [
  {
   "cell_type": "code",
   "execution_count": 41,
   "id": "interested-snowboard",
   "metadata": {
    "scrolled": true
   },
   "outputs": [
    {
     "name": "stdout",
     "output_type": "stream",
     "text": [
      "Full Formula (Nd1 Cu1 O2)\n",
      "Reduced Formula: NdCuO2\n",
      "abc   :   6.122375   6.122375   6.122374\n",
      "angles:  35.746023  35.746023  35.746026\n",
      "Sites (4)\n",
      "  #  SP           a         b         c    magmom\n",
      "---  ----  --------  --------  --------  --------\n",
      "  0  Nd    0.5       0.5       0.5             -0\n",
      "  1  Cu    0         0         0                0\n",
      "  2  O     0.893946  0.893946  0.893946         0\n",
      "  3  O     0.106054  0.106054  0.106054         0\n"
     ]
    },
    {
     "data": {
      "application/vnd.jupyter.widget-view+json": {
       "model_id": "718e7c5d2f654f40a4bdeebadc6318cc",
       "version_major": 2,
       "version_minor": 0
      },
      "text/plain": [
       "JsmolView(layout=Layout(align_self='stretch', height='400px'))"
      ]
     },
     "metadata": {},
     "output_type": "display_data"
    }
   ],
   "source": [
    "from pymatgen.ext.matproj import MPRester\n",
    "from pymatgen.io.cif import CifWriter\n",
    "from jupyter_jsmol.pymatgen import quick_view\n",
    "with MPRester(\"aDcnN2LIF5TzWj3wL\") as m:\n",
    "    structure = m.get_structure_by_material_id(\"mp-4886\")\n",
    "    print(structure)\n",
    "    view = quick_view(structure, conventional=True)\n",
    "    display(view) \n",
    "    view.script(\"draw symop 2(atomno=9)\")\n",
    "    view.script(\"draw symop 3{atomno=4}\")\n",
    "    view.script(\"draw symop 5{atomno=6}\")\n",
    "    file = CifWriter(structure)\n",
    "    file.write_file(\"mystructure\")"
   ]
  },
  {
   "cell_type": "code",
   "execution_count": null,
   "id": "southern-grocery",
   "metadata": {},
   "outputs": [],
   "source": []
  }
 ],
 "metadata": {
  "kernelspec": {
   "display_name": "Python 3",
   "language": "python",
   "name": "python3"
  },
  "language_info": {
   "codemirror_mode": {
    "name": "ipython",
    "version": 3
   },
   "file_extension": ".py",
   "mimetype": "text/x-python",
   "name": "python",
   "nbconvert_exporter": "python",
   "pygments_lexer": "ipython3",
   "version": "3.6.8"
  }
 },
 "nbformat": 4,
 "nbformat_minor": 5
}
